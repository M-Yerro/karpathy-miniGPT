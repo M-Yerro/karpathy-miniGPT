{
  "nbformat": 4,
  "nbformat_minor": 0,
  "metadata": {
    "colab": {
      "provenance": [],
      "include_colab_link": true
    },
    "kernelspec": {
      "name": "python3",
      "display_name": "Python 3"
    },
    "language_info": {
      "name": "python"
    }
  },
  "cells": [
    {
      "cell_type": "markdown",
      "metadata": {
        "id": "view-in-github",
        "colab_type": "text"
      },
      "source": [
        "<a href=\"https://colab.research.google.com/github/M-Yerro/karpathy-miniGPT/blob/master/MiniTransformer.ipynb\" target=\"_parent\"><img src=\"https://colab.research.google.com/assets/colab-badge.svg\" alt=\"Open In Colab\"/></a>"
      ]
    },
    {
      "cell_type": "markdown",
      "source": [
        "# Hola! Aquí hay un mini transformer para explorar. Es un fork del original de Andrej Karpathy.\n",
        "\n",
        "# Podríamos ir viéndolo y luego armar un encuentro para ponernos al tanto de lo que vamos descubriendo, o ir documentando mediante comentarios o un grupo a tal fin"
      ],
      "metadata": {
        "id": "HdP9Od045ZFZ"
      }
    },
    {
      "cell_type": "markdown",
      "source": [
        "## Building a GPT\n",
        "\n",
        "Companion notebook to the [Zero To Hero](https://karpathy.ai/zero-to-hero.html) video on GPT. (https://www.youtube.com/watch?v=kCc8FmEb1nY)"
      ],
      "metadata": {
        "id": "wJpXpmjEYC_T"
      }
    },
    {
      "cell_type": "code",
      "execution_count": null,
      "metadata": {
        "colab": {
          "base_uri": "https://localhost:8080/"
        },
        "id": "h5hjCcLDr2WC",
        "outputId": "6f77a5f9-c333-4639-e9c0-c5bd16e08e2f"
      },
      "outputs": [
        {
          "output_type": "stream",
          "name": "stdout",
          "text": [
            "--2023-05-30 20:58:04--  https://raw.githubusercontent.com/karpathy/char-rnn/master/data/tinyshakespeare/input.txt\n",
            "Resolving raw.githubusercontent.com (raw.githubusercontent.com)... 185.199.108.133, 185.199.109.133, 185.199.110.133, ...\n",
            "Connecting to raw.githubusercontent.com (raw.githubusercontent.com)|185.199.108.133|:443... connected.\n",
            "HTTP request sent, awaiting response... 200 OK\n",
            "Length: 1115394 (1.1M) [text/plain]\n",
            "Saving to: ‘input.txt’\n",
            "\n",
            "input.txt           100%[===================>]   1.06M  --.-KB/s    in 0.04s   \n",
            "\n",
            "2023-05-30 20:58:05 (29.8 MB/s) - ‘input.txt’ saved [1115394/1115394]\n",
            "\n",
            "--2023-05-30 20:58:05--  https://gist.githubusercontent.com/jsdario/6d6c69398cb0c73111e49f1218960f79/raw/8d4fc4548d437e2a7203a5aeeace5477f598827d/el_quijote.txt\n",
            "Resolving gist.githubusercontent.com (gist.githubusercontent.com)... 185.199.111.133, 185.199.110.133, 185.199.109.133, ...\n",
            "Connecting to gist.githubusercontent.com (gist.githubusercontent.com)|185.199.111.133|:443... connected.\n",
            "HTTP request sent, awaiting response... 200 OK\n",
            "Length: 1060259 (1.0M) [text/plain]\n",
            "Saving to: ‘el_quijote.txt’\n",
            "\n",
            "el_quijote.txt      100%[===================>]   1.01M  --.-KB/s    in 0.03s   \n",
            "\n",
            "2023-05-30 20:58:05 (29.7 MB/s) - ‘el_quijote.txt’ saved [1060259/1060259]\n",
            "\n"
          ]
        }
      ],
      "source": [
        "# We always start with a dataset to train on. Let's download the tiny shakespeare dataset\n",
        "!wget https://raw.githubusercontent.com/karpathy/char-rnn/master/data/tinyshakespeare/input.txt\n",
        "!wget https://gist.githubusercontent.com/jsdario/6d6c69398cb0c73111e49f1218960f79/raw/8d4fc4548d437e2a7203a5aeeace5477f598827d/el_quijote.txt"
      ]
    },
    {
      "cell_type": "code",
      "source": [
        "# read it in to inspect it\n",
        "with open('el_quijote.txt', 'r', encoding='utf-8') as f:\n",
        "    text = f.read()"
      ],
      "metadata": {
        "id": "O6medjfRsLD9"
      },
      "execution_count": null,
      "outputs": []
    },
    {
      "cell_type": "code",
      "source": [
        "print(\"length of dataset in characters: \", len(text))"
      ],
      "metadata": {
        "colab": {
          "base_uri": "https://localhost:8080/"
        },
        "id": "6xWI_VyAsN8F",
        "outputId": "92aacfcb-75d5-4583-ca0d-d072027697bd"
      },
      "execution_count": null,
      "outputs": [
        {
          "output_type": "stream",
          "name": "stdout",
          "text": [
            "length of dataset in characters:  1038397\n"
          ]
        }
      ]
    },
    {
      "cell_type": "code",
      "source": [
        "# let's look at the first 1000 characters\n",
        "print(text[:1000])"
      ],
      "metadata": {
        "colab": {
          "base_uri": "https://localhost:8080/"
        },
        "id": "2c5V0FvqseE0",
        "outputId": "1ae302a0-00c5-41f5-c226-b266532c752e"
      },
      "execution_count": null,
      "outputs": [
        {
          "output_type": "stream",
          "name": "stdout",
          "text": [
            "DON QUIJOTE DE LA MANCHA\n",
            "Miguel de Cervantes Saavedra\n",
            "\n",
            "PRIMERA PARTE\n",
            "CAPÍTULO 1: Que trata de la condición y ejercicio del famoso hidalgo D. Quijote de la Mancha\n",
            "En un lugar de la Mancha, de cuyo nombre no quiero acordarme, no ha mucho tiempo que vivía un hidalgo de los de lanza en astillero, adarga antigua, rocín flaco y galgo corredor. Una olla de algo más vaca que carnero, salpicón las más noches, duelos y quebrantos los sábados, lentejas los viernes, algún palomino de añadidura los domingos, consumían las tres partes de su hacienda. El resto della concluían sayo de velarte, calzas de velludo para las fiestas con sus pantuflos de lo mismo, los días de entre semana se honraba con su vellori de lo más fino. Tenía en su casa una ama que pasaba de los cuarenta, y una sobrina que no llegaba a los veinte, y un mozo de campo y plaza, que así ensillaba el rocín como tomaba la podadera. Frisaba la edad de nuestro hidalgo con los cincuenta años, era de complexión recia, sec\n"
          ]
        }
      ]
    },
    {
      "cell_type": "code",
      "source": [
        "# here are all the unique characters that occur in this text\n",
        "chars = sorted(list(set(text)))\n",
        "vocab_size = len(chars)\n",
        "print(''.join(chars))\n",
        "print(vocab_size)"
      ],
      "metadata": {
        "colab": {
          "base_uri": "https://localhost:8080/"
        },
        "id": "0e-Rbyr8sfM8",
        "outputId": "41fae13a-8e85-4772-bff8-b058eba4ef88"
      },
      "execution_count": null,
      "outputs": [
        {
          "output_type": "stream",
          "name": "stdout",
          "text": [
            "\n",
            " !\"'(),-.0123456789:;<?ABCDEFGHIJKLMNOPQRSTUVWXYZ[]abcdefghijlmnopqrstuvxyz¡«»¿̀́̃̈–‘’“”\n",
            "89\n"
          ]
        }
      ]
    },
    {
      "cell_type": "code",
      "source": [
        "# create a mapping from characters to integers\n",
        "stoi = { ch:i for i,ch in enumerate(chars) }\n",
        "itos = { i:ch for i,ch in enumerate(chars) }\n",
        "encode = lambda s: [stoi[c] for c in s] # encoder: take a string, output a list of integers\n",
        "decode = lambda l: ''.join([itos[i] for i in l]) # decoder: take a list of integers, output a string\n",
        "\n",
        "print(encode(\"hii there\"))\n",
        "print(decode(encode(\"hii there\")))\n",
        "\n",
        "print(encode(chars))"
      ],
      "metadata": {
        "colab": {
          "base_uri": "https://localhost:8080/"
        },
        "id": "Yw1LKNCgwjj1",
        "outputId": "c0db7842-f226-4949-cada-6d731e1a6bb9"
      },
      "execution_count": null,
      "outputs": [
        {
          "output_type": "stream",
          "name": "stdout",
          "text": [
            "[59, 60, 60, 1, 70, 59, 56, 68, 56]\n",
            "hii there\n",
            "[0, 1, 2, 3, 4, 5, 6, 7, 8, 9, 10, 11, 12, 13, 14, 15, 16, 17, 18, 19, 20, 21, 22, 23, 24, 25, 26, 27, 28, 29, 30, 31, 32, 33, 34, 35, 36, 37, 38, 39, 40, 41, 42, 43, 44, 45, 46, 47, 48, 49, 50, 51, 52, 53, 54, 55, 56, 57, 58, 59, 60, 61, 62, 63, 64, 65, 66, 67, 68, 69, 70, 71, 72, 73, 74, 75, 76, 77, 78, 79, 80, 81, 82, 83, 84, 85, 86, 87, 88]\n"
          ]
        }
      ]
    },
    {
      "cell_type": "code",
      "source": [
        "# let's now encode the entire text dataset and store it into a torch.Tensor\n",
        "import torch # we use PyTorch: https://pytorch.org\n",
        "data = torch.tensor(encode(text), dtype=torch.long)\n",
        "print(data.shape, data.dtype)\n",
        "print(data[:1000]) # the 1000 characters we looked at earier will to the GPT look like this"
      ],
      "metadata": {
        "colab": {
          "base_uri": "https://localhost:8080/"
        },
        "id": "YJb0OXPwzvqg",
        "outputId": "70837c6d-0c24-48b1-f5ae-00f3f7b77b0b"
      },
      "execution_count": null,
      "outputs": [
        {
          "output_type": "stream",
          "name": "stdout",
          "text": [
            "torch.Size([1038397]) torch.int64\n",
            "tensor([27, 38, 37,  1, 40, 44, 32, 33, 38, 43, 28,  1, 27, 28,  1, 35, 24,  1,\n",
            "        36, 24, 37, 26, 31, 24,  0, 36, 60, 58, 71, 56, 62,  1, 55, 56,  1, 26,\n",
            "        56, 68, 72, 52, 64, 70, 56, 69,  1, 42, 52, 52, 72, 56, 55, 68, 52,  0,\n",
            "         0, 39, 41, 32, 36, 28, 41, 24,  1, 39, 24, 41, 43, 28,  0, 26, 24, 39,\n",
            "        32, 81, 43, 44, 35, 38,  1, 11, 20,  1, 40, 71, 56,  1, 70, 68, 52, 70,\n",
            "        52,  1, 55, 56,  1, 62, 52,  1, 54, 65, 64, 55, 60, 54, 60, 65, 81, 64,\n",
            "         1, 74,  1, 56, 61, 56, 68, 54, 60, 54, 60, 65,  1, 55, 56, 62,  1, 57,\n",
            "        52, 63, 65, 69, 65,  1, 59, 60, 55, 52, 62, 58, 65,  1, 27,  9,  1, 40,\n",
            "        71, 60, 61, 65, 70, 56,  1, 55, 56,  1, 62, 52,  1, 36, 52, 64, 54, 59,\n",
            "        52,  0, 28, 64,  1, 71, 64,  1, 62, 71, 58, 52, 68,  1, 55, 56,  1, 62,\n",
            "        52,  1, 36, 52, 64, 54, 59, 52,  7,  1, 55, 56,  1, 54, 71, 74, 65,  1,\n",
            "        64, 65, 63, 53, 68, 56,  1, 64, 65,  1, 67, 71, 60, 56, 68, 65,  1, 52,\n",
            "        54, 65, 68, 55, 52, 68, 63, 56,  7,  1, 64, 65,  1, 59, 52,  1, 63, 71,\n",
            "        54, 59, 65,  1, 70, 60, 56, 63, 66, 65,  1, 67, 71, 56,  1, 72, 60, 72,\n",
            "        60, 81, 52,  1, 71, 64,  1, 59, 60, 55, 52, 62, 58, 65,  1, 55, 56,  1,\n",
            "        62, 65, 69,  1, 55, 56,  1, 62, 52, 64, 75, 52,  1, 56, 64,  1, 52, 69,\n",
            "        70, 60, 62, 62, 56, 68, 65,  7,  1, 52, 55, 52, 68, 58, 52,  1, 52, 64,\n",
            "        70, 60, 58, 71, 52,  7,  1, 68, 65, 54, 60, 81, 64,  1, 57, 62, 52, 54,\n",
            "        65,  1, 74,  1, 58, 52, 62, 58, 65,  1, 54, 65, 68, 68, 56, 55, 65, 68,\n",
            "         9,  1, 44, 64, 52,  1, 65, 62, 62, 52,  1, 55, 56,  1, 52, 62, 58, 65,\n",
            "         1, 63, 52, 81, 69,  1, 72, 52, 54, 52,  1, 67, 71, 56,  1, 54, 52, 68,\n",
            "        64, 56, 68, 65,  7,  1, 69, 52, 62, 66, 60, 54, 65, 81, 64,  1, 62, 52,\n",
            "        69,  1, 63, 52, 81, 69,  1, 64, 65, 54, 59, 56, 69,  7,  1, 55, 71, 56,\n",
            "        62, 65, 69,  1, 74,  1, 67, 71, 56, 53, 68, 52, 64, 70, 65, 69,  1, 62,\n",
            "        65, 69,  1, 69, 52, 81, 53, 52, 55, 65, 69,  7,  1, 62, 56, 64, 70, 56,\n",
            "        61, 52, 69,  1, 62, 65, 69,  1, 72, 60, 56, 68, 64, 56, 69,  7,  1, 52,\n",
            "        62, 58, 71, 81, 64,  1, 66, 52, 62, 65, 63, 60, 64, 65,  1, 55, 56,  1,\n",
            "        52, 64, 82, 52, 55, 60, 55, 71, 68, 52,  1, 62, 65, 69,  1, 55, 65, 63,\n",
            "        60, 64, 58, 65, 69,  7,  1, 54, 65, 64, 69, 71, 63, 60, 81, 52, 64,  1,\n",
            "        62, 52, 69,  1, 70, 68, 56, 69,  1, 66, 52, 68, 70, 56, 69,  1, 55, 56,\n",
            "         1, 69, 71,  1, 59, 52, 54, 60, 56, 64, 55, 52,  9,  1, 28, 62,  1, 68,\n",
            "        56, 69, 70, 65,  1, 55, 56, 62, 62, 52,  1, 54, 65, 64, 54, 62, 71, 60,\n",
            "        81, 52, 64,  1, 69, 52, 74, 65,  1, 55, 56,  1, 72, 56, 62, 52, 68, 70,\n",
            "        56,  7,  1, 54, 52, 62, 75, 52, 69,  1, 55, 56,  1, 72, 56, 62, 62, 71,\n",
            "        55, 65,  1, 66, 52, 68, 52,  1, 62, 52, 69,  1, 57, 60, 56, 69, 70, 52,\n",
            "        69,  1, 54, 65, 64,  1, 69, 71, 69,  1, 66, 52, 64, 70, 71, 57, 62, 65,\n",
            "        69,  1, 55, 56,  1, 62, 65,  1, 63, 60, 69, 63, 65,  7,  1, 62, 65, 69,\n",
            "         1, 55, 60, 81, 52, 69,  1, 55, 56,  1, 56, 64, 70, 68, 56,  1, 69, 56,\n",
            "        63, 52, 64, 52,  1, 69, 56,  1, 59, 65, 64, 68, 52, 53, 52,  1, 54, 65,\n",
            "        64,  1, 69, 71,  1, 72, 56, 62, 62, 65, 68, 60,  1, 55, 56,  1, 62, 65,\n",
            "         1, 63, 52, 81, 69,  1, 57, 60, 64, 65,  9,  1, 43, 56, 64, 60, 81, 52,\n",
            "         1, 56, 64,  1, 69, 71,  1, 54, 52, 69, 52,  1, 71, 64, 52,  1, 52, 63,\n",
            "        52,  1, 67, 71, 56,  1, 66, 52, 69, 52, 53, 52,  1, 55, 56,  1, 62, 65,\n",
            "        69,  1, 54, 71, 52, 68, 56, 64, 70, 52,  7,  1, 74,  1, 71, 64, 52,  1,\n",
            "        69, 65, 53, 68, 60, 64, 52,  1, 67, 71, 56,  1, 64, 65,  1, 62, 62, 56,\n",
            "        58, 52, 53, 52,  1, 52,  1, 62, 65, 69,  1, 72, 56, 60, 64, 70, 56,  7,\n",
            "         1, 74,  1, 71, 64,  1, 63, 65, 75, 65,  1, 55, 56,  1, 54, 52, 63, 66,\n",
            "        65,  1, 74,  1, 66, 62, 52, 75, 52,  7,  1, 67, 71, 56,  1, 52, 69, 60,\n",
            "        81,  1, 56, 64, 69, 60, 62, 62, 52, 53, 52,  1, 56, 62,  1, 68, 65, 54,\n",
            "        60, 81, 64,  1, 54, 65, 63, 65,  1, 70, 65, 63, 52, 53, 52,  1, 62, 52,\n",
            "         1, 66, 65, 55, 52, 55, 56, 68, 52,  9,  1, 29, 68, 60, 69, 52, 53, 52,\n",
            "         1, 62, 52,  1, 56, 55, 52, 55,  1, 55, 56,  1, 64, 71, 56, 69, 70, 68,\n",
            "        65,  1, 59, 60, 55, 52, 62, 58, 65,  1, 54, 65, 64,  1, 62, 65, 69,  1,\n",
            "        54, 60, 64, 54, 71, 56, 64, 70, 52,  1, 52, 64, 82, 65, 69,  7,  1, 56,\n",
            "        68, 52,  1, 55, 56,  1, 54, 65, 63, 66, 62, 56, 73, 60, 65, 81, 64,  1,\n",
            "        68, 56, 54, 60, 52,  7,  1, 69, 56, 54])\n"
          ]
        }
      ]
    },
    {
      "cell_type": "code",
      "source": [
        "# Let's now split up the data into train and validation sets\n",
        "n = int(0.9*len(data)) # first 90% will be train, rest val\n",
        "train_data = data[:n]\n",
        "val_data = data[n:]"
      ],
      "metadata": {
        "id": "f_WIXqxz0lU5"
      },
      "execution_count": null,
      "outputs": []
    },
    {
      "cell_type": "code",
      "source": [
        "block_size = 8\n",
        "train_data[:block_size+1]"
      ],
      "metadata": {
        "colab": {
          "base_uri": "https://localhost:8080/"
        },
        "id": "TD5Bj8Y6IAD4",
        "outputId": "fcffbc11-e80e-4d77-f0e4-f0e032c63faf"
      },
      "execution_count": null,
      "outputs": [
        {
          "output_type": "execute_result",
          "data": {
            "text/plain": [
              "tensor([27, 38, 37,  1, 40, 44, 32, 33, 38])"
            ]
          },
          "metadata": {},
          "execution_count": 44
        }
      ]
    },
    {
      "cell_type": "code",
      "source": [
        "x = train_data[:block_size]\n",
        "y = train_data[1:block_size+1]\n",
        "for t in range(block_size):\n",
        "    context = x[:t+1]\n",
        "    target = y[t]\n",
        "    \n",
        "    #print(f\"when input is {context} the target: {target}\")\n",
        "    print(f\"when input is {context} the target: {decode([target.item()])}\")"
      ],
      "metadata": {
        "colab": {
          "base_uri": "https://localhost:8080/"
        },
        "id": "9HXDe8vGJCEn",
        "outputId": "4e6b3509-7dba-415a-8b6a-1797cb2f6301"
      },
      "execution_count": null,
      "outputs": [
        {
          "output_type": "stream",
          "name": "stdout",
          "text": [
            "when input is tensor([27]) the target: O\n",
            "when input is tensor([27, 38]) the target: N\n",
            "when input is tensor([27, 38, 37]) the target:  \n",
            "when input is tensor([27, 38, 37,  1]) the target: Q\n",
            "when input is tensor([27, 38, 37,  1, 40]) the target: U\n",
            "when input is tensor([27, 38, 37,  1, 40, 44]) the target: I\n",
            "when input is tensor([27, 38, 37,  1, 40, 44, 32]) the target: J\n",
            "when input is tensor([27, 38, 37,  1, 40, 44, 32, 33]) the target: O\n"
          ]
        }
      ]
    },
    {
      "cell_type": "code",
      "source": [
        "torch.manual_seed(1337)\n",
        "batch_size = 4 # how many independent sequences will we process in parallel?\n",
        "block_size = 8 # what is the maximum context length for predictions?\n",
        "\n",
        "def get_batch(split):\n",
        "    # generate a small batch of data of inputs x and targets y\n",
        "    data = train_data if split == 'train' else val_data\n",
        "    ix = torch.randint(len(data) - block_size, (batch_size,))\n",
        "    x = torch.stack([data[i:i+block_size] for i in ix])\n",
        "    y = torch.stack([data[i+1:i+block_size+1] for i in ix])\n",
        "    return x, y\n",
        "\n",
        "xb, yb = get_batch('train')\n",
        "print('inputs:')\n",
        "print(xb.shape)\n",
        "print(xb)\n",
        "print('targets:')\n",
        "print(yb.shape)\n",
        "print(yb)\n",
        "\n",
        "print('----')\n",
        "\n",
        "for b in range(batch_size): # batch dimension\n",
        "    for t in range(block_size): # time dimension\n",
        "        context = xb[b, :t+1]\n",
        "        target = yb[b,t]\n",
        "        print(f\"when input is {context.tolist()} the target: {target}\")"
      ],
      "metadata": {
        "colab": {
          "base_uri": "https://localhost:8080/"
        },
        "id": "Q3k1Czf7LuA9",
        "outputId": "9852643f-0b58-422b-d1f7-a7c52ca059d5"
      },
      "execution_count": null,
      "outputs": [
        {
          "output_type": "stream",
          "name": "stdout",
          "text": [
            "inputs:\n",
            "torch.Size([4, 8])\n",
            "tensor([[70, 52, 55,  1, 55, 56,  1, 66],\n",
            "        [ 7,  1, 54, 65, 64,  1, 56, 62],\n",
            "        [60,  1, 52,  1, 63, 60, 81,  1],\n",
            "        [54, 52, 68, 52,  7,  1, 64, 60]])\n",
            "targets:\n",
            "torch.Size([4, 8])\n",
            "tensor([[52, 55,  1, 55, 56,  1, 66, 52],\n",
            "        [ 1, 54, 65, 64,  1, 56, 62,  1],\n",
            "        [ 1, 52,  1, 63, 60, 81,  1, 63],\n",
            "        [52, 68, 52,  7,  1, 64, 60,  1]])\n",
            "----\n",
            "when input is [70] the target: 52\n",
            "when input is [70, 52] the target: 55\n",
            "when input is [70, 52, 55] the target: 1\n",
            "when input is [70, 52, 55, 1] the target: 55\n",
            "when input is [70, 52, 55, 1, 55] the target: 56\n",
            "when input is [70, 52, 55, 1, 55, 56] the target: 1\n",
            "when input is [70, 52, 55, 1, 55, 56, 1] the target: 66\n",
            "when input is [70, 52, 55, 1, 55, 56, 1, 66] the target: 52\n",
            "when input is [7] the target: 1\n",
            "when input is [7, 1] the target: 54\n",
            "when input is [7, 1, 54] the target: 65\n",
            "when input is [7, 1, 54, 65] the target: 64\n",
            "when input is [7, 1, 54, 65, 64] the target: 1\n",
            "when input is [7, 1, 54, 65, 64, 1] the target: 56\n",
            "when input is [7, 1, 54, 65, 64, 1, 56] the target: 62\n",
            "when input is [7, 1, 54, 65, 64, 1, 56, 62] the target: 1\n",
            "when input is [60] the target: 1\n",
            "when input is [60, 1] the target: 52\n",
            "when input is [60, 1, 52] the target: 1\n",
            "when input is [60, 1, 52, 1] the target: 63\n",
            "when input is [60, 1, 52, 1, 63] the target: 60\n",
            "when input is [60, 1, 52, 1, 63, 60] the target: 81\n",
            "when input is [60, 1, 52, 1, 63, 60, 81] the target: 1\n",
            "when input is [60, 1, 52, 1, 63, 60, 81, 1] the target: 63\n",
            "when input is [54] the target: 52\n",
            "when input is [54, 52] the target: 68\n",
            "when input is [54, 52, 68] the target: 52\n",
            "when input is [54, 52, 68, 52] the target: 7\n",
            "when input is [54, 52, 68, 52, 7] the target: 1\n",
            "when input is [54, 52, 68, 52, 7, 1] the target: 64\n",
            "when input is [54, 52, 68, 52, 7, 1, 64] the target: 60\n",
            "when input is [54, 52, 68, 52, 7, 1, 64, 60] the target: 1\n"
          ]
        }
      ]
    },
    {
      "cell_type": "code",
      "source": [
        "print(xb) # our input to the transformer"
      ],
      "metadata": {
        "colab": {
          "base_uri": "https://localhost:8080/"
        },
        "id": "qpyyAeIzQjlO",
        "outputId": "54d26bbb-ba4f-4335-c1e3-b5d8ed4e3752"
      },
      "execution_count": null,
      "outputs": [
        {
          "output_type": "stream",
          "name": "stdout",
          "text": [
            "tensor([[70, 52, 55,  1, 55, 56,  1, 66],\n",
            "        [ 7,  1, 54, 65, 64,  1, 56, 62],\n",
            "        [60,  1, 52,  1, 63, 60, 81,  1],\n",
            "        [54, 52, 68, 52,  7,  1, 64, 60]])\n"
          ]
        }
      ]
    },
    {
      "cell_type": "code",
      "source": [
        "import torch\n",
        "import torch.nn as nn\n",
        "from torch.nn import functional as F\n",
        "torch.manual_seed(1337)\n",
        "\n",
        "class BigramLanguageModel(nn.Module):\n",
        "\n",
        "    def __init__(self, vocab_size):\n",
        "        super().__init__()\n",
        "        # each token directly reads off the logits for the next token from a lookup table\n",
        "        self.token_embedding_table = nn.Embedding(vocab_size, vocab_size)\n",
        "\n",
        "    def forward(self, idx, targets=None):\n",
        "\n",
        "        # idx and targets are both (B,T) tensor of integers\n",
        "        logits = self.token_embedding_table(idx) # (B,T,C)\n",
        "        \n",
        "        if targets is None:\n",
        "            loss = None\n",
        "        else:\n",
        "            B, T, C = logits.shape\n",
        "            logits = logits.view(B*T, C)\n",
        "            targets = targets.view(B*T)\n",
        "            loss = F.cross_entropy(logits, targets)\n",
        "\n",
        "        return logits, loss\n",
        "    \n",
        "    def generate(self, idx, max_new_tokens):\n",
        "        # idx is (B, T) array of indices in the current context\n",
        "        for _ in range(max_new_tokens):\n",
        "            # get the predictions\n",
        "            logits, loss = self(idx)\n",
        "            # focus only on the last time step\n",
        "            logits = logits[:, -1, :] # becomes (B, C)\n",
        "            # apply softmax to get probabilities\n",
        "            probs = F.softmax(logits, dim=-1) # (B, C)\n",
        "            # sample from the distribution\n",
        "            idx_next = torch.multinomial(probs, num_samples=1) # (B, 1)\n",
        "            # append sampled index to the running sequence\n",
        "            idx = torch.cat((idx, idx_next), dim=1) # (B, T+1)\n",
        "        return idx\n",
        "\n",
        "m = BigramLanguageModel(vocab_size)\n",
        "logits, loss = m(xb, yb)\n",
        "print(logits.shape)\n",
        "print(loss)\n",
        "\n",
        "print(decode(m.generate(idx = torch.zeros((1, 1), dtype=torch.long), max_new_tokens=100)[0].tolist()))\n"
      ],
      "metadata": {
        "colab": {
          "base_uri": "https://localhost:8080/"
        },
        "id": "nql_1ER53oCf",
        "outputId": "a4e033d0-b93c-4bb3-b016-912930758145"
      },
      "execution_count": null,
      "outputs": [
        {
          "output_type": "stream",
          "name": "stdout",
          "text": [
            "torch.Size([32, 89])\n",
            "tensor(5.2697, grad_fn=<NllLossBackward0>)\n",
            "\n",
            "8sLv<.OTM»̃\"DK;C??c\"TŃ6)-HpLL);GhLRN!̀’IJ1PS«L¡X9”:l\";;]:5Vnd»PjYV“Y«\"ITaQ2’̀rE?x”b‘5”c¿o'H7L[cB3;Q\n"
          ]
        }
      ]
    },
    {
      "cell_type": "code",
      "source": [
        "# create a PyTorch optimizer\n",
        "optimizer = torch.optim.AdamW(m.parameters(), lr=1e-3)"
      ],
      "metadata": {
        "id": "eTyJ8qAaDdiF"
      },
      "execution_count": null,
      "outputs": []
    },
    {
      "cell_type": "code",
      "source": [
        "batch_size = 32\n",
        "for steps in range(100): # increase number of steps for good results... \n",
        "    \n",
        "    # sample a batch of data\n",
        "    xb, yb = get_batch('train')\n",
        "\n",
        "    # evaluate the loss\n",
        "    logits, loss = m(xb, yb)\n",
        "    optimizer.zero_grad(set_to_none=True)\n",
        "    loss.backward()\n",
        "    optimizer.step()\n",
        "\n",
        "print(loss.item())\n"
      ],
      "metadata": {
        "colab": {
          "base_uri": "https://localhost:8080/"
        },
        "id": "Hs4kI8YdEkQj",
        "outputId": "9334531b-13bf-4534-9405-fd556cd881e4"
      },
      "execution_count": null,
      "outputs": [
        {
          "output_type": "stream",
          "name": "stdout",
          "text": [
            "4.8966898918151855\n"
          ]
        }
      ]
    },
    {
      "cell_type": "code",
      "source": [
        "print(decode(m.generate(idx = torch.zeros((1, 1), dtype=torch.long), max_new_tokens=500)[0].tolist()))"
      ],
      "metadata": {
        "colab": {
          "base_uri": "https://localhost:8080/"
        },
        "id": "EcVIDWAZEtjN",
        "outputId": "9cccff37-b6aa-4860-d325-6523e42db010"
      },
      "execution_count": null,
      "outputs": [
        {
          "output_type": "stream",
          "name": "stdout",
          "text": [
            "\n",
            "HYDE-!7]WF-‘3bUIJiCTo–a?-vẂU:S0VWYBBU9o)0DN!–VS?),'1«G\"cEV”́!6S-6ATFG]”iB7mWmOy6y’4’u–‘̈bTUBJNl?rDC¡qiZ’ex7J”Xs2h9–»̃]”0j–i<!E7M‘G1WT«Gf¿[CXCLDE)M–?s(0af]EQeQ<jHy4‘̃c0–E5Ln2(H-‘–iCT7l\"8'oN»X!‘5ovUQE”Q¡!lZ–hROo0’;̃)Lnxs5KI.;Hz\n",
            "cC!\".̀”7e(?xClETtNŚflIGCX(92GK;è̃D̀lo'́NaOD»C”)jbIl8”caIGp̈U.MqRMG;?[̃qG!.!GlW,M1YKFg[f<¡P;8gx?-(JAxPIq.JA‘yOz0b’V'a! ̀v:”Vzip!36  J\"gd)BRd̈ 5UJ–B́<̀WDmzaMVT0VlJ\"I(ub4!1iCJ\"z‘̃fN:0qIT0“APxC1 1F]IOF’jgBWbLYF4B;OuDe«s4oi(̈1M5Yb‘)-!N¿u\n",
            "jx2pOA5RJQp̈VseQ‘̈¡OT<?<Y5n 0nH'-‘G’EJ\n"
          ]
        }
      ]
    },
    {
      "cell_type": "code",
      "source": [
        "print(decode(m.generate(idx = torch.zeros((1, 1), dtype=torch.long), max_new_tokens=600)[0].tolist()))"
      ],
      "metadata": {
        "colab": {
          "base_uri": "https://localhost:8080/"
        },
        "id": "wGrHP-ihJdYb",
        "outputId": "5b357aff-60bc-4e45-f4f3-0c8eb5006e94"
      },
      "execution_count": null,
      "outputs": [
        {
          "output_type": "stream",
          "name": "stdout",
          "text": [
            "\n",
            "e!aa!A;:eS-mz̈VV'”)̀I1o:a-oGv!ẂmKKWGh[WnzL\"\n",
            "P(P;Q2ARM-1\n",
            "6P;̀l'Q?C”7Rv¡HWL’¿Q!(¡oep¿–cCZ¿j5vÝ)»TC9 sB2h[;eo Q ̀ 'omoafdhLq0a¿‘)̀RR2';41htQp:j;N:SlB(“.H̃K;pziB<MPC¡EVX»“:R.K«gP¡BXSvmV́!n8Xrvv.SGacODYcOYzKFT.JTtVN?6PuUc<‘G?¿7¡d–¿O¿!P;LnmW2DUHVR9̈Il(FmYa”‘yM!2xVxI 1́\n",
            "bLD0<̀vWmsGpA\"̈¡XP;Zb3p\"a-fD-'o.‘ChiPVXHCVb5̃NiI,SCJZ̃”cB‘36ba(Kdv-5P0L;-6̈I<!41RJ)y[IA;VXL??Kst<‘(9ỹ.«cJ1dOz‘H2gEVT́uRhi,H.m?’mzumCP;E\"\"v«4lqL\"WERK-P9E!̀fg.OO¿–DmIJ<o ̀AEQV̀b¡fYnoq :CL\n",
            " yG9U–g4N»Hs(¡ZL)CG-;Os:R2N“\n",
            "5PSo'4Sm8«LU941U5fJ́ggfUC8L?!12plu«<W̃”[u)H̃8ep̈8Lr5exLy–K2P¡v,’̀OOD7\"2,SJI,5¿mj–̃¿Qh?su8ACo8J,‘yMVja“Z–̈7:d̈7BUYet:̃D\n"
          ]
        }
      ]
    },
    {
      "cell_type": "markdown",
      "source": [
        "## The mathematical trick in self-attention"
      ],
      "metadata": {
        "id": "XinV8nmAnmKN"
      }
    },
    {
      "cell_type": "code",
      "source": [
        "# toy example illustrating how matrix multiplication can be used for a \"weighted aggregation\"\n",
        "torch.manual_seed(42)\n",
        "a = torch.tril(torch.ones(3, 3))\n",
        "a = a / torch.sum(a, 1, keepdim=True)\n",
        "b = torch.randint(0,10,(3,2)).float()\n",
        "c = a @ b\n",
        "print('a=')\n",
        "print(a)\n",
        "print('--')\n",
        "print('b=')\n",
        "print(b)\n",
        "print('--')\n",
        "print('c=')\n",
        "print(c)"
      ],
      "metadata": {
        "colab": {
          "base_uri": "https://localhost:8080/"
        },
        "id": "tukiH-NbRBhA",
        "outputId": "36be661f-3ec9-47b6-ccfb-96ff8849ae9c"
      },
      "execution_count": null,
      "outputs": [
        {
          "output_type": "stream",
          "name": "stdout",
          "text": [
            "a=\n",
            "tensor([[1.0000, 0.0000, 0.0000],\n",
            "        [0.5000, 0.5000, 0.0000],\n",
            "        [0.3333, 0.3333, 0.3333]])\n",
            "--\n",
            "b=\n",
            "tensor([[2., 7.],\n",
            "        [6., 4.],\n",
            "        [6., 5.]])\n",
            "--\n",
            "c=\n",
            "tensor([[2.0000, 7.0000],\n",
            "        [4.0000, 5.5000],\n",
            "        [4.6667, 5.3333]])\n"
          ]
        }
      ]
    },
    {
      "cell_type": "code",
      "source": [
        "# consider the following toy example:\n",
        "\n",
        "torch.manual_seed(1337)\n",
        "B,T,C = 4,8,2 # batch, time, channels\n",
        "x = torch.randn(B,T,C)\n",
        "x.shape"
      ],
      "metadata": {
        "colab": {
          "base_uri": "https://localhost:8080/"
        },
        "id": "Hs_E24uRE8kr",
        "outputId": "0ac56192-86fb-4a8a-cfc6-5ae35934cd13"
      },
      "execution_count": null,
      "outputs": [
        {
          "output_type": "execute_result",
          "data": {
            "text/plain": [
              "torch.Size([4, 8, 2])"
            ]
          },
          "metadata": {},
          "execution_count": 60
        }
      ]
    },
    {
      "cell_type": "code",
      "source": [
        "# We want x[b,t] = mean_{i<=t} x[b,i]\n",
        "xbow = torch.zeros((B,T,C))\n",
        "for b in range(B):\n",
        "    for t in range(T):\n",
        "        xprev = x[b,:t+1] # (t,C)\n",
        "        xbow[b,t] = torch.mean(xprev, 0)\n"
      ],
      "metadata": {
        "id": "86NuXX0fn7ps"
      },
      "execution_count": null,
      "outputs": []
    },
    {
      "cell_type": "code",
      "source": [
        "# version 2: using matrix multiply for a weighted aggregation\n",
        "wei = torch.tril(torch.ones(T, T))\n",
        "wei = wei / wei.sum(1, keepdim=True)\n",
        "xbow2 = wei @ x # (B, T, T) @ (B, T, C) ----> (B, T, C)\n",
        "torch.allclose(xbow, xbow2)"
      ],
      "metadata": {
        "colab": {
          "base_uri": "https://localhost:8080/"
        },
        "id": "yhdOAd6-wXkZ",
        "outputId": "0f1332bb-526f-441e-ae7a-e9ed9d7098ba"
      },
      "execution_count": null,
      "outputs": [
        {
          "output_type": "execute_result",
          "data": {
            "text/plain": [
              "True"
            ]
          },
          "metadata": {},
          "execution_count": 62
        }
      ]
    },
    {
      "cell_type": "code",
      "source": [
        "# version 3: use Softmax\n",
        "tril = torch.tril(torch.ones(T, T))\n",
        "wei = torch.zeros((T,T))\n",
        "wei = wei.masked_fill(tril == 0, float('-inf'))\n",
        "wei = F.softmax(wei, dim=-1)\n",
        "xbow3 = wei @ x\n",
        "torch.allclose(xbow, xbow3)\n"
      ],
      "metadata": {
        "colab": {
          "base_uri": "https://localhost:8080/"
        },
        "id": "wOURrfG-ysoL",
        "outputId": "5773bbb6-f1fd-412f-d56c-799398998844"
      },
      "execution_count": null,
      "outputs": [
        {
          "output_type": "execute_result",
          "data": {
            "text/plain": [
              "True"
            ]
          },
          "metadata": {},
          "execution_count": 63
        }
      ]
    },
    {
      "cell_type": "code",
      "source": [
        "# version 4: self-attention!\n",
        "torch.manual_seed(1337)\n",
        "B,T,C = 4,8,32 # batch, time, channels\n",
        "x = torch.randn(B,T,C)\n",
        "\n",
        "# let's see a single Head perform self-attention\n",
        "head_size = 16\n",
        "key = nn.Linear(C, head_size, bias=False)\n",
        "query = nn.Linear(C, head_size, bias=False)\n",
        "value = nn.Linear(C, head_size, bias=False)\n",
        "k = key(x)   # (B, T, 16)\n",
        "q = query(x) # (B, T, 16)\n",
        "wei =  q @ k.transpose(-2, -1) # (B, T, 16) @ (B, 16, T) ---> (B, T, T)\n",
        "\n",
        "tril = torch.tril(torch.ones(T, T))\n",
        "#wei = torch.zeros((T,T))\n",
        "wei = wei.masked_fill(tril == 0, float('-inf'))\n",
        "wei = F.softmax(wei, dim=-1)\n",
        "\n",
        "v = value(x)\n",
        "out = wei @ v\n",
        "#out = wei @ x\n",
        "\n",
        "out.shape"
      ],
      "metadata": {
        "colab": {
          "base_uri": "https://localhost:8080/"
        },
        "id": "EDarxEWIRMKq",
        "outputId": "d6cc12ed-0e99-49d5-af8a-952a903c9e34"
      },
      "execution_count": null,
      "outputs": [
        {
          "output_type": "execute_result",
          "data": {
            "text/plain": [
              "torch.Size([4, 8, 16])"
            ]
          },
          "metadata": {},
          "execution_count": 64
        }
      ]
    },
    {
      "cell_type": "code",
      "source": [
        "wei[0]"
      ],
      "metadata": {
        "colab": {
          "base_uri": "https://localhost:8080/"
        },
        "id": "vT1hdtzXCjgL",
        "outputId": "189fb46c-6942-4bc8-b4db-92d9e201c10c"
      },
      "execution_count": null,
      "outputs": [
        {
          "output_type": "execute_result",
          "data": {
            "text/plain": [
              "tensor([[1.0000, 0.0000, 0.0000, 0.0000, 0.0000, 0.0000, 0.0000, 0.0000],\n",
              "        [0.1574, 0.8426, 0.0000, 0.0000, 0.0000, 0.0000, 0.0000, 0.0000],\n",
              "        [0.2088, 0.1646, 0.6266, 0.0000, 0.0000, 0.0000, 0.0000, 0.0000],\n",
              "        [0.5792, 0.1187, 0.1889, 0.1131, 0.0000, 0.0000, 0.0000, 0.0000],\n",
              "        [0.0294, 0.1052, 0.0469, 0.0276, 0.7909, 0.0000, 0.0000, 0.0000],\n",
              "        [0.0176, 0.2689, 0.0215, 0.0089, 0.6812, 0.0019, 0.0000, 0.0000],\n",
              "        [0.1691, 0.4066, 0.0438, 0.0416, 0.1048, 0.2012, 0.0329, 0.0000],\n",
              "        [0.0210, 0.0843, 0.0555, 0.2297, 0.0573, 0.0709, 0.2423, 0.2391]],\n",
              "       grad_fn=<SelectBackward0>)"
            ]
          },
          "metadata": {},
          "execution_count": 65
        }
      ]
    },
    {
      "cell_type": "markdown",
      "source": [
        "Notes:\n",
        "- Attention is a **communication mechanism**. Can be seen as nodes in a directed graph looking at each other and aggregating information with a weighted sum from all nodes that point to them, with data-dependent weights.\n",
        "- There is no notion of space. Attention simply acts over a set of vectors. This is why we need to positionally encode tokens.\n",
        "- Each example across batch dimension is of course processed completely independently and never \"talk\" to each other\n",
        "- In an \"encoder\" attention block just delete the single line that does masking with `tril`, allowing all tokens to communicate. This block here is called a \"decoder\" attention block because it has triangular masking, and is usually used in autoregressive settings, like language modeling.\n",
        "- \"self-attention\" just means that the keys and values are produced from the same source as queries. In \"cross-attention\", the queries still get produced from x, but the keys and values come from some other, external source (e.g. an encoder module)\n",
        "- \"Scaled\" attention additional divides `wei` by 1/sqrt(head_size). This makes it so when input Q,K are unit variance, wei will be unit variance too and Softmax will stay diffuse and not saturate too much. Illustration below"
      ],
      "metadata": {
        "id": "M5CvobiQ0pLr"
      }
    },
    {
      "cell_type": "code",
      "source": [
        "k = torch.randn(B,T,head_size)\n",
        "q = torch.randn(B,T,head_size)\n",
        "wei = q @ k.transpose(-2, -1) * head_size**-0.5"
      ],
      "metadata": {
        "id": "4SNbLq5z3oBw"
      },
      "execution_count": null,
      "outputs": []
    },
    {
      "cell_type": "code",
      "source": [
        "k.var()"
      ],
      "metadata": {
        "colab": {
          "base_uri": "https://localhost:8080/"
        },
        "id": "Nl6I9n9IRTSo",
        "outputId": "16506528-bea0-448c-faef-3e97f1e3e866"
      },
      "execution_count": null,
      "outputs": [
        {
          "output_type": "execute_result",
          "data": {
            "text/plain": [
              "tensor(1.0449)"
            ]
          },
          "metadata": {},
          "execution_count": 67
        }
      ]
    },
    {
      "cell_type": "code",
      "source": [
        "q.var()"
      ],
      "metadata": {
        "colab": {
          "base_uri": "https://localhost:8080/"
        },
        "id": "T1tQx7oeRvtc",
        "outputId": "7e7748e5-8ae8-488b-d122-a55acc1e8b51"
      },
      "execution_count": null,
      "outputs": [
        {
          "output_type": "execute_result",
          "data": {
            "text/plain": [
              "tensor(1.0700)"
            ]
          },
          "metadata": {},
          "execution_count": 68
        }
      ]
    },
    {
      "cell_type": "code",
      "source": [
        "wei.var()"
      ],
      "metadata": {
        "colab": {
          "base_uri": "https://localhost:8080/"
        },
        "id": "MLb_odHU3iKM",
        "outputId": "03ab2578-0d28-46cf-feaa-f6f5bc3fa6b6"
      },
      "execution_count": null,
      "outputs": [
        {
          "output_type": "execute_result",
          "data": {
            "text/plain": [
              "tensor(1.0918)"
            ]
          },
          "metadata": {},
          "execution_count": 69
        }
      ]
    },
    {
      "cell_type": "code",
      "source": [
        "torch.softmax(torch.tensor([0.1, -0.2, 0.3, -0.2, 0.5]), dim=-1)"
      ],
      "metadata": {
        "colab": {
          "base_uri": "https://localhost:8080/"
        },
        "id": "JB82yzt44REI",
        "outputId": "879172f8-2ad8-4715-ff0a-2c9277102e2f"
      },
      "execution_count": null,
      "outputs": [
        {
          "output_type": "execute_result",
          "data": {
            "text/plain": [
              "tensor([0.1925, 0.1426, 0.2351, 0.1426, 0.2872])"
            ]
          },
          "metadata": {},
          "execution_count": 70
        }
      ]
    },
    {
      "cell_type": "code",
      "source": [
        "torch.softmax(torch.tensor([0.1, -0.2, 0.3, -0.2, 0.5])*8, dim=-1) # gets too peaky, converges to one-hot"
      ],
      "metadata": {
        "colab": {
          "base_uri": "https://localhost:8080/"
        },
        "id": "Mpt8569BB9_f",
        "outputId": "003bbf4d-30db-4e88-879a-a20fe3d9aef2"
      },
      "execution_count": null,
      "outputs": [
        {
          "output_type": "execute_result",
          "data": {
            "text/plain": [
              "tensor([0.0326, 0.0030, 0.1615, 0.0030, 0.8000])"
            ]
          },
          "metadata": {},
          "execution_count": 71
        }
      ]
    },
    {
      "cell_type": "code",
      "source": [
        "class LayerNorm1d: # (used to be BatchNorm1d)\n",
        "  \n",
        "  def __init__(self, dim, eps=1e-5, momentum=0.1):\n",
        "    self.eps = eps\n",
        "    self.gamma = torch.ones(dim)\n",
        "    self.beta = torch.zeros(dim)\n",
        "  \n",
        "  def __call__(self, x):\n",
        "    # calculate the forward pass\n",
        "    xmean = x.mean(1, keepdim=True) # batch mean\n",
        "    xvar = x.var(1, keepdim=True) # batch variance\n",
        "    xhat = (x - xmean) / torch.sqrt(xvar + self.eps) # normalize to unit variance\n",
        "    self.out = self.gamma * xhat + self.beta\n",
        "    return self.out\n",
        "  \n",
        "  def parameters(self):\n",
        "    return [self.gamma, self.beta]\n",
        "\n",
        "torch.manual_seed(1337)\n",
        "module = LayerNorm1d(100)\n",
        "x = torch.randn(32, 100) # batch size 32 of 100-dimensional vectors\n",
        "x = module(x)\n",
        "x.shape"
      ],
      "metadata": {
        "colab": {
          "base_uri": "https://localhost:8080/"
        },
        "id": "2Num7sX9CKOH",
        "outputId": "74a44efc-dde5-4a6d-afd1-cbe2d0620ca3"
      },
      "execution_count": null,
      "outputs": [
        {
          "output_type": "execute_result",
          "data": {
            "text/plain": [
              "torch.Size([32, 100])"
            ]
          },
          "metadata": {},
          "execution_count": 72
        }
      ]
    },
    {
      "cell_type": "code",
      "source": [
        "x[:,0].mean(), x[:,0].std() # mean,std of one feature across all batch inputs"
      ],
      "metadata": {
        "colab": {
          "base_uri": "https://localhost:8080/"
        },
        "id": "633T2cmnW1uk",
        "outputId": "c4cd8c54-8bde-4da5-d772-bf60a87a42da"
      },
      "execution_count": null,
      "outputs": [
        {
          "output_type": "execute_result",
          "data": {
            "text/plain": [
              "(tensor(0.1469), tensor(0.8803))"
            ]
          },
          "metadata": {},
          "execution_count": 73
        }
      ]
    },
    {
      "cell_type": "code",
      "source": [
        "x[0,:].mean(), x[0,:].std() # mean,std of a single input from the batch, of its features"
      ],
      "metadata": {
        "colab": {
          "base_uri": "https://localhost:8080/"
        },
        "id": "LN9cK9BoXCYb",
        "outputId": "699c9187-b253-4f01-ac49-e54457a0bcc9"
      },
      "execution_count": null,
      "outputs": [
        {
          "output_type": "execute_result",
          "data": {
            "text/plain": [
              "(tensor(-9.5367e-09), tensor(1.0000))"
            ]
          },
          "metadata": {},
          "execution_count": 74
        }
      ]
    },
    {
      "cell_type": "code",
      "source": [
        "# French to English translation example:\n",
        "\n",
        "# <--------- ENCODE ------------------><--------------- DECODE ----------------->\n",
        "# les réseaux de neurones sont géniaux! <START> neural networks are awesome!<END>\n",
        "\n"
      ],
      "metadata": {
        "id": "dRJH6wM_XFfU"
      },
      "execution_count": null,
      "outputs": []
    },
    {
      "cell_type": "markdown",
      "source": [
        "### Full finished code, for reference\n",
        "\n",
        "You may want to refer directly to the git repo instead though."
      ],
      "metadata": {
        "id": "ZcvKeBXoZFOY"
      }
    },
    {
      "cell_type": "code",
      "source": [
        "import torch\n",
        "import torch.nn as nn\n",
        "from torch.nn import functional as F\n",
        "\n",
        "# hyperparameters\n",
        "batch_size = 16 # how many independent sequences will we process in parallel?\n",
        "block_size = 32 # what is the maximum context length for predictions?\n",
        "max_iters = 5000\n",
        "eval_interval = 100\n",
        "learning_rate = 1e-3\n",
        "device = 'cuda' if torch.cuda.is_available() else 'cpu'\n",
        "eval_iters = 200\n",
        "n_embd = 64\n",
        "n_head = 4\n",
        "n_layer = 4\n",
        "dropout = 0.0\n",
        "# ------------\n",
        "\n",
        "torch.manual_seed(1337)\n",
        "\n",
        "# wget https://raw.githubusercontent.com/karpathy/char-rnn/master/data/tinyshakespeare/input.txt\n",
        "\n",
        "!wget https://gist.githubusercontent.com/jsdario/6d6c69398cb0c73111e49f1218960f79/raw/8d4fc4548d437e2a7203a5aeeace5477f598827d/el_quijote.txt\n",
        "with open('el_quijote.txt', 'r', encoding='utf-8') as f:\n",
        "    text = f.read()\n",
        "\n",
        "#with open('input.txt', 'r', encoding='utf-8') as f:\n",
        "#    text = f.read()\n",
        "\n",
        "# here are all the unique characters that occur in this text\n",
        "chars = sorted(list(set(text)))\n",
        "vocab_size = len(chars)\n",
        "# create a mapping from characters to integers\n",
        "stoi = { ch:i for i,ch in enumerate(chars) }\n",
        "itos = { i:ch for i,ch in enumerate(chars) }\n",
        "encode = lambda s: [stoi[c] for c in s] # encoder: take a string, output a list of integers\n",
        "decode = lambda l: ''.join([itos[i] for i in l]) # decoder: take a list of integers, output a string\n",
        "\n",
        "# Train and test splits\n",
        "data = torch.tensor(encode(text), dtype=torch.long)\n",
        "n = int(0.9*len(data)) # first 90% will be train, rest val\n",
        "train_data = data[:n]\n",
        "val_data = data[n:]\n",
        "\n",
        "# data loading\n",
        "def get_batch(split):\n",
        "    # generate a small batch of data of inputs x and targets y\n",
        "    data = train_data if split == 'train' else val_data\n",
        "    ix = torch.randint(len(data) - block_size, (batch_size,))\n",
        "    x = torch.stack([data[i:i+block_size] for i in ix])\n",
        "    y = torch.stack([data[i+1:i+block_size+1] for i in ix])\n",
        "    x, y = x.to(device), y.to(device)\n",
        "    return x, y\n",
        "\n",
        "@torch.no_grad()\n",
        "def estimate_loss():\n",
        "    out = {}\n",
        "    model.eval()\n",
        "    for split in ['train', 'val']:\n",
        "        losses = torch.zeros(eval_iters)\n",
        "        for k in range(eval_iters):\n",
        "            X, Y = get_batch(split)\n",
        "            logits, loss = model(X, Y)\n",
        "            losses[k] = loss.item()\n",
        "        out[split] = losses.mean()\n",
        "    model.train()\n",
        "    return out\n",
        "\n",
        "class Head(nn.Module):\n",
        "    \"\"\" one head of self-attention \"\"\"\n",
        "\n",
        "    def __init__(self, head_size):\n",
        "        super().__init__()\n",
        "        self.key = nn.Linear(n_embd, head_size, bias=False)\n",
        "        self.query = nn.Linear(n_embd, head_size, bias=False)\n",
        "        self.value = nn.Linear(n_embd, head_size, bias=False)\n",
        "        self.register_buffer('tril', torch.tril(torch.ones(block_size, block_size)))\n",
        "\n",
        "        self.dropout = nn.Dropout(dropout)\n",
        "\n",
        "    def forward(self, x):\n",
        "        B,T,C = x.shape\n",
        "        k = self.key(x)   # (B,T,C)\n",
        "        q = self.query(x) # (B,T,C)\n",
        "        # compute attention scores (\"affinities\")\n",
        "        wei = q @ k.transpose(-2,-1) * C**-0.5 # (B, T, C) @ (B, C, T) -> (B, T, T)\n",
        "        wei = wei.masked_fill(self.tril[:T, :T] == 0, float('-inf')) # (B, T, T)\n",
        "        wei = F.softmax(wei, dim=-1) # (B, T, T)\n",
        "        wei = self.dropout(wei)\n",
        "        # perform the weighted aggregation of the values\n",
        "        v = self.value(x) # (B,T,C)\n",
        "        out = wei @ v # (B, T, T) @ (B, T, C) -> (B, T, C)\n",
        "        return out\n",
        "\n",
        "class MultiHeadAttention(nn.Module):\n",
        "    \"\"\" multiple heads of self-attention in parallel \"\"\"\n",
        "\n",
        "    def __init__(self, num_heads, head_size):\n",
        "        super().__init__()\n",
        "        self.heads = nn.ModuleList([Head(head_size) for _ in range(num_heads)])\n",
        "        self.proj = nn.Linear(n_embd, n_embd)\n",
        "        self.dropout = nn.Dropout(dropout)\n",
        "\n",
        "    def forward(self, x):\n",
        "        out = torch.cat([h(x) for h in self.heads], dim=-1)\n",
        "        out = self.dropout(self.proj(out))\n",
        "        return out\n",
        "\n",
        "class FeedFoward(nn.Module):\n",
        "    \"\"\" a simple linear layer followed by a non-linearity \"\"\"\n",
        "\n",
        "    def __init__(self, n_embd):\n",
        "        super().__init__()\n",
        "        self.net = nn.Sequential(\n",
        "            nn.Linear(n_embd, 4 * n_embd),\n",
        "            nn.ReLU(),\n",
        "            nn.Linear(4 * n_embd, n_embd),\n",
        "            nn.Dropout(dropout),\n",
        "        )\n",
        "\n",
        "    def forward(self, x):\n",
        "        return self.net(x)\n",
        "\n",
        "class Block(nn.Module):\n",
        "    \"\"\" Transformer block: communication followed by computation \"\"\"\n",
        "\n",
        "    def __init__(self, n_embd, n_head):\n",
        "        # n_embd: embedding dimension, n_head: the number of heads we'd like\n",
        "        super().__init__()\n",
        "        head_size = n_embd // n_head\n",
        "        self.sa = MultiHeadAttention(n_head, head_size)\n",
        "        self.ffwd = FeedFoward(n_embd)\n",
        "        self.ln1 = nn.LayerNorm(n_embd)\n",
        "        self.ln2 = nn.LayerNorm(n_embd)\n",
        "\n",
        "    def forward(self, x):\n",
        "        x = x + self.sa(self.ln1(x))\n",
        "        x = x + self.ffwd(self.ln2(x))\n",
        "        return x\n",
        "\n",
        "# super simple bigram model\n",
        "class BigramLanguageModel(nn.Module):\n",
        "\n",
        "    def __init__(self):\n",
        "        super().__init__()\n",
        "        # each token directly reads off the logits for the next token from a lookup table\n",
        "        self.token_embedding_table = nn.Embedding(vocab_size, n_embd)\n",
        "        self.position_embedding_table = nn.Embedding(block_size, n_embd)\n",
        "        self.blocks = nn.Sequential(*[Block(n_embd, n_head=n_head) for _ in range(n_layer)])\n",
        "        self.ln_f = nn.LayerNorm(n_embd) # final layer norm\n",
        "        self.lm_head = nn.Linear(n_embd, vocab_size)\n",
        "\n",
        "    def forward(self, idx, targets=None):\n",
        "        B, T = idx.shape\n",
        "\n",
        "        # idx and targets are both (B,T) tensor of integers\n",
        "        tok_emb = self.token_embedding_table(idx) # (B,T,C)\n",
        "        pos_emb = self.position_embedding_table(torch.arange(T, device=device)) # (T,C)\n",
        "        x = tok_emb + pos_emb # (B,T,C)\n",
        "        x = self.blocks(x) # (B,T,C)\n",
        "        x = self.ln_f(x) # (B,T,C)\n",
        "        logits = self.lm_head(x) # (B,T,vocab_size)\n",
        "\n",
        "        if targets is None:\n",
        "            loss = None\n",
        "        else:\n",
        "            B, T, C = logits.shape\n",
        "            logits = logits.view(B*T, C)\n",
        "            targets = targets.view(B*T)\n",
        "            loss = F.cross_entropy(logits, targets)\n",
        "\n",
        "        return logits, loss\n",
        "\n",
        "    def generate(self, idx, max_new_tokens):\n",
        "        # idx is (B, T) array of indices in the current context\n",
        "        for _ in range(max_new_tokens):\n",
        "            # crop idx to the last block_size tokens\n",
        "            idx_cond = idx[:, -block_size:]\n",
        "            # get the predictions\n",
        "            logits, loss = self(idx_cond)\n",
        "            # focus only on the last time step\n",
        "            logits = logits[:, -1, :] # becomes (B, C)\n",
        "            # apply softmax to get probabilities\n",
        "            probs = F.softmax(logits, dim=-1) # (B, C)\n",
        "            # sample from the distribution\n",
        "            idx_next = torch.multinomial(probs, num_samples=1) # (B, 1)\n",
        "            # append sampled index to the running sequence\n",
        "            idx = torch.cat((idx, idx_next), dim=1) # (B, T+1)\n",
        "        return idx\n",
        "\n",
        "model = BigramLanguageModel()\n",
        "m = model.to(device)\n",
        "# print the number of parameters in the model\n",
        "print(sum(p.numel() for p in m.parameters())/1e6, 'M parameters')\n",
        "\n",
        "# create a PyTorch optimizer\n",
        "optimizer = torch.optim.AdamW(model.parameters(), lr=learning_rate)\n",
        "\n",
        "for iter in range(max_iters):\n",
        "\n",
        "    # every once in a while evaluate the loss on train and val sets\n",
        "    if iter % eval_interval == 0 or iter == max_iters - 1:\n",
        "        losses = estimate_loss()\n",
        "        print(f\"step {iter}: train loss {losses['train']:.4f}, val loss {losses['val']:.4f}\")\n",
        "\n",
        "    # sample a batch of data\n",
        "    xb, yb = get_batch('train')\n",
        "\n",
        "    # evaluate the loss\n",
        "    logits, loss = model(xb, yb)\n",
        "    optimizer.zero_grad(set_to_none=True)\n",
        "    loss.backward()\n",
        "    optimizer.step()\n",
        "\n",
        "# generate from the model\n",
        "context = torch.zeros((1, 1), dtype=torch.long, device=device)\n",
        "print(decode(m.generate(context, max_new_tokens=2000)[0].tolist()))\n"
      ],
      "metadata": {
        "colab": {
          "base_uri": "https://localhost:8080/"
        },
        "id": "hoelkOrFY8bN",
        "outputId": "ea557f13-959c-4843-92f5-428f4d433ad8"
      },
      "execution_count": null,
      "outputs": [
        {
          "output_type": "stream",
          "name": "stdout",
          "text": [
            "--2023-05-30 11:02:26--  https://gist.githubusercontent.com/jsdario/6d6c69398cb0c73111e49f1218960f79/raw/8d4fc4548d437e2a7203a5aeeace5477f598827d/el_quijote.txt\n",
            "Resolving gist.githubusercontent.com (gist.githubusercontent.com)... 185.199.108.133, 185.199.109.133, 185.199.110.133, ...\n",
            "Connecting to gist.githubusercontent.com (gist.githubusercontent.com)|185.199.108.133|:443... connected.\n",
            "HTTP request sent, awaiting response... 200 OK\n",
            "Length: 1060259 (1.0M) [text/plain]\n",
            "Saving to: ‘el_quijote.txt.1’\n",
            "\n",
            "\rel_quijote.txt.1      0%[                    ]       0  --.-KB/s               \rel_quijote.txt.1    100%[===================>]   1.01M  --.-KB/s    in 0.05s   \n",
            "\n",
            "2023-05-30 11:02:26 (21.4 MB/s) - ‘el_quijote.txt.1’ saved [1060259/1060259]\n",
            "\n",
            "0.212825 M parameters\n",
            "step 0: train loss 4.6837, val loss 4.6888\n",
            "step 100: train loss 2.3703, val loss 2.4026\n",
            "step 200: train loss 2.2508, val loss 2.2982\n",
            "step 300: train loss 2.1993, val loss 2.2474\n",
            "step 400: train loss 2.1579, val loss 2.1908\n",
            "step 500: train loss 2.1006, val loss 2.1225\n",
            "step 600: train loss 2.0654, val loss 2.1026\n",
            "step 700: train loss 2.0070, val loss 2.0508\n",
            "step 800: train loss 1.9775, val loss 2.0253\n",
            "step 900: train loss 1.9330, val loss 1.9830\n",
            "step 1000: train loss 1.9028, val loss 1.9603\n",
            "step 1100: train loss 1.8808, val loss 1.9343\n",
            "step 1200: train loss 1.8495, val loss 1.9026\n",
            "step 1300: train loss 1.8260, val loss 1.8800\n",
            "step 1400: train loss 1.8074, val loss 1.8782\n",
            "step 1500: train loss 1.7827, val loss 1.8393\n",
            "step 1600: train loss 1.7706, val loss 1.8326\n",
            "step 1700: train loss 1.7550, val loss 1.8453\n",
            "step 1800: train loss 1.7481, val loss 1.8135\n",
            "step 1900: train loss 1.7193, val loss 1.7726\n",
            "step 2000: train loss 1.7102, val loss 1.7839\n",
            "step 2100: train loss 1.6957, val loss 1.7759\n",
            "step 2200: train loss 1.6932, val loss 1.7469\n",
            "step 2300: train loss 1.6737, val loss 1.7528\n",
            "step 2400: train loss 1.6680, val loss 1.7338\n",
            "step 2500: train loss 1.6594, val loss 1.7254\n",
            "step 2600: train loss 1.6382, val loss 1.7396\n",
            "step 2700: train loss 1.6354, val loss 1.7122\n",
            "step 2800: train loss 1.6241, val loss 1.7054\n",
            "step 2900: train loss 1.6246, val loss 1.7017\n",
            "step 3000: train loss 1.6062, val loss 1.6970\n",
            "step 3100: train loss 1.5977, val loss 1.6809\n",
            "step 3200: train loss 1.5853, val loss 1.6793\n",
            "step 3300: train loss 1.5843, val loss 1.6753\n",
            "step 3400: train loss 1.5871, val loss 1.6547\n",
            "step 3500: train loss 1.5868, val loss 1.6551\n",
            "step 3600: train loss 1.5732, val loss 1.6695\n",
            "step 3700: train loss 1.5738, val loss 1.6621\n",
            "step 3800: train loss 1.5449, val loss 1.6504\n",
            "step 3900: train loss 1.5651, val loss 1.6561\n",
            "step 4000: train loss 1.5474, val loss 1.6508\n",
            "step 4100: train loss 1.5345, val loss 1.6268\n",
            "step 4200: train loss 1.5453, val loss 1.6338\n",
            "step 4300: train loss 1.5486, val loss 1.6399\n",
            "step 4400: train loss 1.5327, val loss 1.6349\n",
            "step 4500: train loss 1.5263, val loss 1.6232\n",
            "step 4600: train loss 1.5218, val loss 1.6089\n",
            "step 4700: train loss 1.5168, val loss 1.6148\n",
            "step 4800: train loss 1.5101, val loss 1.6133\n",
            "step 4900: train loss 1.5115, val loss 1.5942\n",
            "step 4999: train loss 1.5004, val loss 1.6014\n",
            "\n",
            "Yo pes, consóle, querrí sabían nuestro la hinciento, que a orden, y estaba su movestrabada servíaselo en es tar facaltar, el sobísto, que se después, sin que irtufentís, los figuncas tantes conoci ella, que acar, acomo que te los hégos y cupto de su ojo cuya, no saguir en su estengo, sin hentidor el barbo. Tan sus margúras otras malas cosas bajornes el reespa que al diabo que luevta cuplíante por lo quisiese tales, velencia rostrón que había Marirse. ¿Quién de aquí nuestra esteriban y supiado por clalló allí mal ya gran ganilino, y por quitando.\n",
            "-Dijo que, ahora que manos, y yo de oida algramos de caballeros y a ¿el di su parece, perecitado y alzotísimpo\n",
            "Yo síjo, que pasaba de concar su nueve más se para los inderios y lo contillas y luego, cuando a la acoborte de otro a la volvar a sé tirco es selcía por su poco dico de quiera había molicita quitar, todas corrión dicienciasos que llamar oidor y casados de homariosarbos y en las cosas que prece que un bueno el cura; quíspositural mempre del garías calo más dan con alguna volve; y aún él princado y aquí tambiérpose, despásitamo y la por el caballerio razón reinante la ventad\n",
            "–, hay’amos pasa se vino a los poscos y bien mistados, comenzó mi pedía entualque todo intéspalla, y quisitamos, sin compuntó al por probivo al quitar don Quijote unanta, vininamententina, y parencen en la caballera, sembitó llevánte por todo de la ventio ella de alca, couso que damos hastar, sendir e la inciua el por quisar era de la que mesma qué buscaba oca querrer que te vuestr veces se veces que podeza y Corgunto sucían, como tomundarse de no rogado mas acudierto?le o un han batalló y el mala de tantos cosa sinados que tans habían buen bovetantas acón había una fentata en fasta de rePantís causta que es laber a haciére, andába de señóle desposeros de mejor de cobasta de hacer en un caballerías todo caer a al oien finza:\n",
            "-Hecho, cuando, su respondió «A las quinas, y dos del cuando, con si no \n"
          ]
        }
      ]
    },
    {
      "cell_type": "code",
      "source": [
        "context = torch.zeros((1, 1), dtype=torch.long, device=device)\n",
        "print(decode(m.generate(context, max_new_tokens=2000)[0].tolist()))"
      ],
      "metadata": {
        "id": "fjjvMifYZf7x",
        "colab": {
          "base_uri": "https://localhost:8080/"
        },
        "outputId": "d7053c8e-e649-4787-9ed9-70c5e4d83bb0"
      },
      "execution_count": null,
      "outputs": [
        {
          "output_type": "stream",
          "name": "stdout",
          "text": [
            "\n",
            "En moco lo que cómo\n",
            "Panzase a Mira la quenes quiere gussenco; y seguían recinto- Don Quijote- oto cuán por llamaca raeve, por encebía ¡Ote a Don Quijote-, hará que a más la gentito y espuerto un braza que con ya no esAmilo que lo que tornen había para su padille de conséis, por sirambién se tonanta aquen para, cumplió de habito de su oso y los pañas en comisa batallos de su muy improsico, piros? Y vieno algusto divo Lasoro.\n",
            "-Tedes estuvere édico a una caballerís? pero que pasalla que terno ya poco poderse el ca, que no compear que te cerque las hermanas de la voz, coras a la vuestras ése pero a para merobla Don Quijote de sujeme deja que ya mis hechas púdos Carción su burbarnentar)-. Roste cuaso quien como pedía a fuerta, ni basta, Lo mejorar companta, que le dellá ver de quien gallo al sujer hiciera cual, señor tancia, y adoja el casi salca, que te de corrababa cocoría, se su detemantar es la voieja.\n",
            "-A se estaban otro; quién hermina por pocosenciado que día, que les hacer suempla como su los que he me astaron y Rocinan las de malas manabacioras, si por sus leevados a ser sus pocos los dellos a las oíjos subirtese vantas priminos que tan probarse el fe masa; el partadad de la caustos; por el me lendijo todo respondión, otorno dellos, no es prapiuntados de sus mañas de acubridos de decibir que sin yo que camón de Loran pál en tu gaña, con y remodo y tanta él, quiscadas y con los que preguntarmos, Mormos palora que le guar, yo era la espo.\n",
            "Bué vieren el tan mejor y de la meza, andiendo don Quijoté nuestro pasar al pasantaza y de gotar querías deshallas que si manas de Lotarios a sabe caballero.\n",
            "–Esto cura querzá de encer al olco listrecho ni habida vazante y a su incamoros de torsosa darendo tan santa era, destar el manedo si conocipa que\n",
            "por ponder el cristiano,, si por hombresco.úlado el mal pareción quien caballo y la faltaba caballerio, por orquía. Pero y el la hallería; y sibe puso consigo, grandes asipañeles y es más sobre\n"
          ]
        }
      ]
    }
  ]
}